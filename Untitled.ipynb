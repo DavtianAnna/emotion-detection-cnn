{
 "cells": [
  {
   "cell_type": "code",
   "execution_count": 1,
   "id": "b60d7669-ce93-4281-a8bb-11ea13efb03e",
   "metadata": {},
   "outputs": [],
   "source": [
    "import warnings\n",
    "warnings.filterwarnings('ignore')"
   ]
  },
  {
   "cell_type": "code",
   "execution_count": 2,
   "id": "30f8e38a-d2aa-4847-a504-350b39e2211b",
   "metadata": {},
   "outputs": [],
   "source": [
    "import os\n",
    "import cv2\n",
    "import numpy as np\n",
    "import matplotlib.pyplot as plt\n",
    "import matplotlib.image as mpimg\n",
    "from keras.utils import to_categorical\n",
    "from sklearn.preprocessing import LabelEncoder\n",
    "from sklearn.model_selection import train_test_split"
   ]
  },
  {
   "cell_type": "code",
   "execution_count": 3,
   "id": "b1967ddd-2433-4904-9fb3-2694d9e44d87",
   "metadata": {},
   "outputs": [],
   "source": [
    "img = mpimg.imread('train/angry/im1009.png')"
   ]
  },
  {
   "cell_type": "code",
   "execution_count": 4,
   "id": "9fc43d4a-8027-42d3-8634-09234aa470d9",
   "metadata": {},
   "outputs": [
    {
     "data": {
      "text/plain": [
       "<matplotlib.image.AxesImage at 0x20001226f90>"
      ]
     },
     "execution_count": 4,
     "metadata": {},
     "output_type": "execute_result"
    },
    {
     "data": {
      "image/png": "[encoded data removed]",
      "text/plain": [
       "<Figure size 640x480 with 1 Axes>"
      ]
     },
     "metadata": {},
     "output_type": "display_data"
    }
   ],
   "source": [
    "plt.imshow(img)"
   ]
  },
  {
   "cell_type": "code",
   "execution_count": 5,
   "id": "c4fa3a7a-34f0-4ea3-93b3-53304f3a6de1",
   "metadata": {},
   "outputs": [],
   "source": [
    "img_size = img.shape"
   ]
  },
  {
   "cell_type": "code",
   "execution_count": 6,
   "id": "ee5a560a-583f-4b0b-b393-eca931003963",
   "metadata": {},
   "outputs": [
    {
     "data": {
      "text/plain": [
       "(48, 48)"
      ]
     },
     "execution_count": 6,
     "metadata": {},
     "output_type": "execute_result"
    }
   ],
   "source": [
    "img_size"
   ]
  },
  {
   "cell_type": "code",
   "execution_count": 7,
   "id": "dce6e4dd-b26f-40dc-8184-743585cb5211",
   "metadata": {},
   "outputs": [],
   "source": [
    "X = []\n",
    "y = []\n",
    "for i in os.listdir('train'):\n",
    "    for j in os.listdir(f'train/{i}/'):\n",
    "        try:\n",
    "            image = mpimg.imread(f'train/{i}/{j}')\n",
    "        except:\n",
    "            continue\n",
    "        image = image.reshape(48,48,1)\n",
    "        X.append(image)\n",
    "        y.append(i)\n",
    "X = np.array(X)\n",
    "y = np.array(y)\n"
   ]
  },
  {
   "cell_type": "code",
   "execution_count": 8,
   "id": "75c83654-1afe-4bad-8cc1-f4ef0f47bfc8",
   "metadata": {},
   "outputs": [],
   "source": [
    "X_test = []\n",
    "y_test = []\n",
    "for i in os.listdir('test'):\n",
    "    for j in os.listdir(f'test/{i}/'):\n",
    "        try:\n",
    "            image = mpimg.imread(f'test/{i}/{j}')\n",
    "        except:\n",
    "            continue\n",
    "        image = image.reshape(48,48,1)\n",
    "        X_test.append(image)\n",
    "        y_test.append(i)\n",
    "X_test = np.array(X)\n",
    "y_test = np.array(y)"
   ]
  },
  {
   "cell_type": "code",
   "execution_count": 9,
   "id": "14ddf834-d4ae-4dc4-a6f6-d3ee9a963fd9",
   "metadata": {},
   "outputs": [],
   "source": [
    "label = LabelEncoder()\n",
    "y = label.fit_transform(y)\n",
    "y_test = label.transform(y_test)"
   ]
  },
  {
   "cell_type": "code",
   "execution_count": 10,
   "id": "4852e60d-93a0-4764-b30d-9e3928890675",
   "metadata": {},
   "outputs": [],
   "source": [
    "y = to_categorical(y)\n",
    "y_test = to_categorical(y_test)"
   ]
  },
  {
   "cell_type": "code",
   "execution_count": 11,
   "id": "c4d8f12a-d565-4fe1-bd0a-a1ca4703ff56",
   "metadata": {},
   "outputs": [],
   "source": [
    "X_train, X_val, y_train, y_val = train_test_split(X_test, y_test, test_size=0.2, random_state=42)"
   ]
  },
  {
   "cell_type": "code",
   "execution_count": 12,
   "id": "b0fddd19-c764-4efe-8d95-8f99feed7ee1",
   "metadata": {},
   "outputs": [],
   "source": [
    "X_conect = np.concatenate((X_train, X_val))"
   ]
  },
  {
   "cell_type": "code",
   "execution_count": 13,
   "id": "87c78125-ca92-4284-a798-62b60743ca28",
   "metadata": {},
   "outputs": [
    {
     "data": {
      "text/plain": [
       "(28709, 48, 48, 1)"
      ]
     },
     "execution_count": 13,
     "metadata": {},
     "output_type": "execute_result"
    }
   ],
   "source": [
    "X_conect.shape"
   ]
  },
  {
   "cell_type": "code",
   "execution_count": 14,
   "id": "c3f29094-bd53-4d40-862d-999d315c12c5",
   "metadata": {},
   "outputs": [],
   "source": [
    "y_conect = np.concatenate((y_train, y_val))"
   ]
  },
  {
   "cell_type": "code",
   "execution_count": 15,
   "id": "3342bc87-893a-44d3-a576-9d58808dcf42",
   "metadata": {},
   "outputs": [
    {
     "data": {
      "text/plain": [
       "(28709, 7)"
      ]
     },
     "execution_count": 15,
     "metadata": {},
     "output_type": "execute_result"
    }
   ],
   "source": [
    "y_conect.shape"
   ]
  },
  {
   "cell_type": "code",
   "execution_count": 16,
   "id": "c1ba7ac8-9deb-4765-95e8-ebb3945dd9f3",
   "metadata": {},
   "outputs": [],
   "source": [
    "from keras import Sequential\n",
    "from keras.layers import Dense, Conv2D, MaxPooling2D, Flatten, Dropout, BatchNormalization\n",
    "from keras.optimizers import Adam"
   ]
  },
  {
   "cell_type": "code",
   "execution_count": 17,
   "id": "75a429c8-6193-4152-ab85-3d5cb5f4868d",
   "metadata": {},
   "outputs": [],
   "source": [
    "model = Sequential()\n",
    "\n",
    "model.add(Conv2D(32, kernel_size=(3, 3), activation='relu',input_shape=(48,48,1)))\n",
    "\n",
    "\n",
    "model.add(Conv2D(64, kernel_size=(3, 3), activation='relu'))\n",
    "model.add(MaxPooling2D(pool_size=(2, 2)))\n",
    "\n",
    "model.add(Conv2D(128, kernel_size=(3, 3), activation='relu'))\n",
    "model.add(MaxPooling2D(pool_size=(2, 2)))\n",
    "\n",
    "model.add(Conv2D(128, kernel_size=(3, 3), activation='relu'))\n",
    "model.add(MaxPooling2D(pool_size=(2, 2)))\n",
    "\n",
    "model.add(Conv2D(128, kernel_size=(3, 3), activation='relu'))\n",
    "model.add(MaxPooling2D(pool_size=(2, 2)))\n",
    "\n",
    "model.add(Flatten())\n",
    "\n",
    "model.add(Dense(512, activation='relu'))\n",
    "model.add(Dropout(0.5))\n",
    "model.add(Dense(256, activation='relu'))\n",
    "model.add(Dropout(0.3))\n",
    "model.add(Dense(128, activation='relu'))\n",
    "model.add(Dense(64, activation='relu'))\n",
    "model.add(Dense(7, activation='softmax'))\n",
    "\n",
    "model.compile(optimizer=Adam(learning_rate=0.001), loss = 'categorical_crossentropy', metrics = ['accuracy'])\n"
   ]
  },
  {
   "cell_type": "code",
   "execution_count": 18,
   "id": "c249fe7c-ff64-4684-b17d-425582214312",
   "metadata": {},
   "outputs": [
    {
     "name": "stdout",
     "output_type": "stream",
     "text": [
      "Epoch 1/50\n",
      "\u001b[1m225/225\u001b[0m \u001b[32m━━━━━━━━━━━━━━━━━━━━\u001b[0m\u001b[37m\u001b[0m \u001b[1m40s\u001b[0m 170ms/step - accuracy: 0.2493 - loss: 1.8208 - val_accuracy: 0.2513 - val_loss: 1.8101\n",
      "Epoch 2/50\n",
      "\u001b[1m225/225\u001b[0m \u001b[32m━━━━━━━━━━━━━━━━━━━━\u001b[0m\u001b[37m\u001b[0m \u001b[1m38s\u001b[0m 169ms/step - accuracy: 0.3260 - loss: 1.6473 - val_accuracy: 0.4099 - val_loss: 1.4676\n",
      "Epoch 3/50\n",
      "\u001b[1m225/225\u001b[0m \u001b[32m━━━━━━━━━━━━━━━━━━━━\u001b[0m\u001b[37m\u001b[0m \u001b[1m37s\u001b[0m 166ms/step - accuracy: 0.4285 - loss: 1.4269 - val_accuracy: 0.4995 - val_loss: 1.2919\n",
      "Epoch 4/50\n",
      "\u001b[1m225/225\u001b[0m \u001b[32m━━━━━━━━━━━━━━━━━━━━\u001b[0m\u001b[37m\u001b[0m \u001b[1m37s\u001b[0m 165ms/step - accuracy: 0.4982 - loss: 1.2822 - val_accuracy: 0.5442 - val_loss: 1.1780\n",
      "Epoch 5/50\n",
      "\u001b[1m225/225\u001b[0m \u001b[32m━━━━━━━━━━━━━━━━━━━━\u001b[0m\u001b[37m\u001b[0m \u001b[1m38s\u001b[0m 168ms/step - accuracy: 0.5409 - loss: 1.1917 - val_accuracy: 0.5814 - val_loss: 1.0926\n",
      "Epoch 6/50\n",
      "\u001b[1m225/225\u001b[0m \u001b[32m━━━━━━━━━━━━━━━━━━━━\u001b[0m\u001b[37m\u001b[0m \u001b[1m37s\u001b[0m 166ms/step - accuracy: 0.5703 - loss: 1.1195 - val_accuracy: 0.6070 - val_loss: 1.0319\n",
      "Epoch 7/50\n",
      "\u001b[1m225/225\u001b[0m \u001b[32m━━━━━━━━━━━━━━━━━━━━\u001b[0m\u001b[37m\u001b[0m \u001b[1m37s\u001b[0m 166ms/step - accuracy: 0.6009 - loss: 1.0539 - val_accuracy: 0.6344 - val_loss: 0.9686\n",
      "Epoch 8/50\n",
      "\u001b[1m225/225\u001b[0m \u001b[32m━━━━━━━━━━━━━━━━━━━━\u001b[0m\u001b[37m\u001b[0m \u001b[1m38s\u001b[0m 168ms/step - accuracy: 0.6217 - loss: 0.9984 - val_accuracy: 0.6606 - val_loss: 0.9005\n",
      "Epoch 9/50\n",
      "\u001b[1m225/225\u001b[0m \u001b[32m━━━━━━━━━━━━━━━━━━━━\u001b[0m\u001b[37m\u001b[0m \u001b[1m37s\u001b[0m 165ms/step - accuracy: 0.6477 - loss: 0.9341 - val_accuracy: 0.6693 - val_loss: 0.8715\n",
      "Epoch 10/50\n",
      "\u001b[1m225/225\u001b[0m \u001b[32m━━━━━━━━━━━━━━━━━━━━\u001b[0m\u001b[37m\u001b[0m \u001b[1m37s\u001b[0m 165ms/step - accuracy: 0.6667 - loss: 0.8873 - val_accuracy: 0.7011 - val_loss: 0.7921\n",
      "Epoch 11/50\n",
      "\u001b[1m225/225\u001b[0m \u001b[32m━━━━━━━━━━━━━━━━━━━━\u001b[0m\u001b[37m\u001b[0m \u001b[1m39s\u001b[0m 171ms/step - accuracy: 0.6903 - loss: 0.8305 - val_accuracy: 0.7298 - val_loss: 0.7313\n",
      "Epoch 12/50\n",
      "\u001b[1m225/225\u001b[0m \u001b[32m━━━━━━━━━━━━━━━━━━━━\u001b[0m\u001b[37m\u001b[0m \u001b[1m37s\u001b[0m 165ms/step - accuracy: 0.7114 - loss: 0.7769 - val_accuracy: 0.7552 - val_loss: 0.6727\n",
      "Epoch 13/50\n",
      "\u001b[1m225/225\u001b[0m \u001b[32m━━━━━━━━━━━━━━━━━━━━\u001b[0m\u001b[37m\u001b[0m \u001b[1m37s\u001b[0m 165ms/step - accuracy: 0.7328 - loss: 0.7235 - val_accuracy: 0.7600 - val_loss: 0.6474\n",
      "Epoch 14/50\n",
      "\u001b[1m225/225\u001b[0m \u001b[32m━━━━━━━━━━━━━━━━━━━━\u001b[0m\u001b[37m\u001b[0m \u001b[1m38s\u001b[0m 169ms/step - accuracy: 0.7475 - loss: 0.6780 - val_accuracy: 0.7788 - val_loss: 0.6022\n",
      "Epoch 15/50\n",
      "\u001b[1m225/225\u001b[0m \u001b[32m━━━━━━━━━━━━━━━━━━━━\u001b[0m\u001b[37m\u001b[0m \u001b[1m37s\u001b[0m 166ms/step - accuracy: 0.7689 - loss: 0.6304 - val_accuracy: 0.8170 - val_loss: 0.5154\n",
      "Epoch 16/50\n",
      "\u001b[1m225/225\u001b[0m \u001b[32m━━━━━━━━━━━━━━━━━━━━\u001b[0m\u001b[37m\u001b[0m \u001b[1m37s\u001b[0m 166ms/step - accuracy: 0.7886 - loss: 0.5814 - val_accuracy: 0.8265 - val_loss: 0.4912\n",
      "Epoch 17/50\n",
      "\u001b[1m225/225\u001b[0m \u001b[32m━━━━━━━━━━━━━━━━━━━━\u001b[0m\u001b[37m\u001b[0m \u001b[1m38s\u001b[0m 168ms/step - accuracy: 0.8009 - loss: 0.5490 - val_accuracy: 0.8295 - val_loss: 0.4852\n",
      "Epoch 18/50\n",
      "\u001b[1m225/225\u001b[0m \u001b[32m━━━━━━━━━━━━━━━━━━━━\u001b[0m\u001b[37m\u001b[0m \u001b[1m37s\u001b[0m 165ms/step - accuracy: 0.8144 - loss: 0.5130 - val_accuracy: 0.8543 - val_loss: 0.4124\n",
      "Epoch 19/50\n",
      "\u001b[1m225/225\u001b[0m \u001b[32m━━━━━━━━━━━━━━━━━━━━\u001b[0m\u001b[37m\u001b[0m \u001b[1m37s\u001b[0m 165ms/step - accuracy: 0.8319 - loss: 0.4680 - val_accuracy: 0.8633 - val_loss: 0.3835\n",
      "Epoch 20/50\n",
      "\u001b[1m225/225\u001b[0m \u001b[32m━━━━━━━━━━━━━━━━━━━━\u001b[0m\u001b[37m\u001b[0m \u001b[1m37s\u001b[0m 163ms/step - accuracy: 0.8420 - loss: 0.4353 - val_accuracy: 0.8878 - val_loss: 0.3197\n",
      "Epoch 21/50\n",
      "\u001b[1m225/225\u001b[0m \u001b[32m━━━━━━━━━━━━━━━━━━━━\u001b[0m\u001b[37m\u001b[0m \u001b[1m37s\u001b[0m 163ms/step - accuracy: 0.8537 - loss: 0.4087 - val_accuracy: 0.8821 - val_loss: 0.3312\n",
      "Epoch 22/50\n",
      "\u001b[1m225/225\u001b[0m \u001b[32m━━━━━━━━━━━━━━━━━━━━\u001b[0m\u001b[37m\u001b[0m \u001b[1m37s\u001b[0m 164ms/step - accuracy: 0.8682 - loss: 0.3716 - val_accuracy: 0.9064 - val_loss: 0.2678\n",
      "Epoch 23/50\n",
      "\u001b[1m225/225\u001b[0m \u001b[32m━━━━━━━━━━━━━━━━━━━━\u001b[0m\u001b[37m\u001b[0m \u001b[1m37s\u001b[0m 163ms/step - accuracy: 0.8762 - loss: 0.3453 - val_accuracy: 0.9012 - val_loss: 0.2776\n",
      "Epoch 24/50\n",
      "\u001b[1m225/225\u001b[0m \u001b[32m━━━━━━━━━━━━━━━━━━━━\u001b[0m\u001b[37m\u001b[0m \u001b[1m37s\u001b[0m 165ms/step - accuracy: 0.8852 - loss: 0.3258 - val_accuracy: 0.9094 - val_loss: 0.2585\n",
      "Epoch 25/50\n",
      "\u001b[1m225/225\u001b[0m \u001b[32m━━━━━━━━━━━━━━━━━━━━\u001b[0m\u001b[37m\u001b[0m \u001b[1m37s\u001b[0m 163ms/step - accuracy: 0.8956 - loss: 0.2972 - val_accuracy: 0.9264 - val_loss: 0.2126\n",
      "Epoch 26/50\n",
      "\u001b[1m225/225\u001b[0m \u001b[32m━━━━━━━━━━━━━━━━━━━━\u001b[0m\u001b[37m\u001b[0m \u001b[1m37s\u001b[0m 163ms/step - accuracy: 0.9001 - loss: 0.2809 - val_accuracy: 0.9287 - val_loss: 0.2056\n",
      "Epoch 27/50\n",
      "\u001b[1m225/225\u001b[0m \u001b[32m━━━━━━━━━━━━━━━━━━━━\u001b[0m\u001b[37m\u001b[0m \u001b[1m37s\u001b[0m 163ms/step - accuracy: 0.9062 - loss: 0.2667 - val_accuracy: 0.9450 - val_loss: 0.1684\n",
      "Epoch 28/50\n",
      "\u001b[1m225/225\u001b[0m \u001b[32m━━━━━━━━━━━━━━━━━━━━\u001b[0m\u001b[37m\u001b[0m \u001b[1m37s\u001b[0m 163ms/step - accuracy: 0.9127 - loss: 0.2499 - val_accuracy: 0.9346 - val_loss: 0.1872\n",
      "Epoch 29/50\n",
      "\u001b[1m225/225\u001b[0m \u001b[32m━━━━━━━━━━━━━━━━━━━━\u001b[0m\u001b[37m\u001b[0m \u001b[1m37s\u001b[0m 163ms/step - accuracy: 0.9153 - loss: 0.2439 - val_accuracy: 0.9500 - val_loss: 0.1523\n",
      "Epoch 30/50\n",
      "\u001b[1m225/225\u001b[0m \u001b[32m━━━━━━━━━━━━━━━━━━━━\u001b[0m\u001b[37m\u001b[0m \u001b[1m37s\u001b[0m 163ms/step - accuracy: 0.9204 - loss: 0.2306 - val_accuracy: 0.9504 - val_loss: 0.1475\n",
      "Epoch 31/50\n",
      "\u001b[1m225/225\u001b[0m \u001b[32m━━━━━━━━━━━━━━━━━━━━\u001b[0m\u001b[37m\u001b[0m \u001b[1m37s\u001b[0m 163ms/step - accuracy: 0.9251 - loss: 0.2135 - val_accuracy: 0.9529 - val_loss: 0.1424\n",
      "Epoch 32/50\n",
      "\u001b[1m225/225\u001b[0m \u001b[32m━━━━━━━━━━━━━━━━━━━━\u001b[0m\u001b[37m\u001b[0m \u001b[1m37s\u001b[0m 165ms/step - accuracy: 0.9351 - loss: 0.1901 - val_accuracy: 0.9473 - val_loss: 0.1513\n",
      "Epoch 33/50\n",
      "\u001b[1m225/225\u001b[0m \u001b[32m━━━━━━━━━━━━━━━━━━━━\u001b[0m\u001b[37m\u001b[0m \u001b[1m40s\u001b[0m 177ms/step - accuracy: 0.9347 - loss: 0.1926 - val_accuracy: 0.9617 - val_loss: 0.1173\n",
      "Epoch 34/50\n",
      "\u001b[1m225/225\u001b[0m \u001b[32m━━━━━━━━━━━━━━━━━━━━\u001b[0m\u001b[37m\u001b[0m \u001b[1m39s\u001b[0m 174ms/step - accuracy: 0.9380 - loss: 0.1804 - val_accuracy: 0.9619 - val_loss: 0.1151\n",
      "Epoch 35/50\n",
      "\u001b[1m225/225\u001b[0m \u001b[32m━━━━━━━━━━━━━━━━━━━━\u001b[0m\u001b[37m\u001b[0m \u001b[1m39s\u001b[0m 172ms/step - accuracy: 0.9439 - loss: 0.1670 - val_accuracy: 0.9593 - val_loss: 0.1232\n",
      "Epoch 36/50\n",
      "\u001b[1m225/225\u001b[0m \u001b[32m━━━━━━━━━━━━━━━━━━━━\u001b[0m\u001b[37m\u001b[0m \u001b[1m38s\u001b[0m 169ms/step - accuracy: 0.9398 - loss: 0.1764 - val_accuracy: 0.9609 - val_loss: 0.1198\n",
      "Epoch 37/50\n",
      "\u001b[1m225/225\u001b[0m \u001b[32m━━━━━━━━━━━━━━━━━━━━\u001b[0m\u001b[37m\u001b[0m \u001b[1m39s\u001b[0m 172ms/step - accuracy: 0.9458 - loss: 0.1600 - val_accuracy: 0.9643 - val_loss: 0.1058\n",
      "Epoch 38/50\n",
      "\u001b[1m225/225\u001b[0m \u001b[32m━━━━━━━━━━━━━━━━━━━━\u001b[0m\u001b[37m\u001b[0m \u001b[1m39s\u001b[0m 171ms/step - accuracy: 0.9440 - loss: 0.1651 - val_accuracy: 0.9510 - val_loss: 0.1480\n",
      "Epoch 39/50\n",
      "\u001b[1m225/225\u001b[0m \u001b[32m━━━━━━━━━━━━━━━━━━━━\u001b[0m\u001b[37m\u001b[0m \u001b[1m38s\u001b[0m 167ms/step - accuracy: 0.9472 - loss: 0.1574 - val_accuracy: 0.9712 - val_loss: 0.0899\n",
      "Epoch 40/50\n",
      "\u001b[1m225/225\u001b[0m \u001b[32m━━━━━━━━━━━━━━━━━━━━\u001b[0m\u001b[37m\u001b[0m \u001b[1m37s\u001b[0m 166ms/step - accuracy: 0.9513 - loss: 0.1413 - val_accuracy: 0.9468 - val_loss: 0.1510\n",
      "Epoch 41/50\n",
      "\u001b[1m225/225\u001b[0m \u001b[32m━━━━━━━━━━━━━━━━━━━━\u001b[0m\u001b[37m\u001b[0m \u001b[1m41s\u001b[0m 166ms/step - accuracy: 0.9537 - loss: 0.1408 - val_accuracy: 0.9644 - val_loss: 0.1054\n",
      "Epoch 42/50\n",
      "\u001b[1m225/225\u001b[0m \u001b[32m━━━━━━━━━━━━━━━━━━━━\u001b[0m\u001b[37m\u001b[0m \u001b[1m38s\u001b[0m 168ms/step - accuracy: 0.9561 - loss: 0.1312 - val_accuracy: 0.9716 - val_loss: 0.0832\n",
      "Epoch 43/50\n",
      "\u001b[1m225/225\u001b[0m \u001b[32m━━━━━━━━━━━━━━━━━━━━\u001b[0m\u001b[37m\u001b[0m \u001b[1m37s\u001b[0m 166ms/step - accuracy: 0.9580 - loss: 0.1247 - val_accuracy: 0.9744 - val_loss: 0.0783\n",
      "Epoch 44/50\n",
      "\u001b[1m225/225\u001b[0m \u001b[32m━━━━━━━━━━━━━━━━━━━━\u001b[0m\u001b[37m\u001b[0m \u001b[1m38s\u001b[0m 167ms/step - accuracy: 0.9578 - loss: 0.1268 - val_accuracy: 0.9714 - val_loss: 0.0851\n",
      "Epoch 45/50\n",
      "\u001b[1m225/225\u001b[0m \u001b[32m━━━━━━━━━━━━━━━━━━━━\u001b[0m\u001b[37m\u001b[0m \u001b[1m37s\u001b[0m 166ms/step - accuracy: 0.9578 - loss: 0.1252 - val_accuracy: 0.9717 - val_loss: 0.0836\n",
      "Epoch 46/50\n",
      "\u001b[1m225/225\u001b[0m \u001b[32m━━━━━━━━━━━━━━━━━━━━\u001b[0m\u001b[37m\u001b[0m \u001b[1m37s\u001b[0m 166ms/step - accuracy: 0.9583 - loss: 0.1206 - val_accuracy: 0.9746 - val_loss: 0.0785\n",
      "Epoch 47/50\n",
      "\u001b[1m225/225\u001b[0m \u001b[32m━━━━━━━━━━━━━━━━━━━━\u001b[0m\u001b[37m\u001b[0m \u001b[1m39s\u001b[0m 171ms/step - accuracy: 0.9571 - loss: 0.1256 - val_accuracy: 0.9686 - val_loss: 0.0915\n",
      "Epoch 48/50\n",
      "\u001b[1m225/225\u001b[0m \u001b[32m━━━━━━━━━━━━━━━━━━━━\u001b[0m\u001b[37m\u001b[0m \u001b[1m38s\u001b[0m 167ms/step - accuracy: 0.9619 - loss: 0.1130 - val_accuracy: 0.9792 - val_loss: 0.0670\n",
      "Epoch 49/50\n",
      "\u001b[1m225/225\u001b[0m \u001b[32m━━━━━━━━━━━━━━━━━━━━\u001b[0m\u001b[37m\u001b[0m \u001b[1m37s\u001b[0m 166ms/step - accuracy: 0.9650 - loss: 0.1082 - val_accuracy: 0.9781 - val_loss: 0.0657\n",
      "Epoch 50/50\n",
      "\u001b[1m225/225\u001b[0m \u001b[32m━━━━━━━━━━━━━━━━━━━━\u001b[0m\u001b[37m\u001b[0m \u001b[1m37s\u001b[0m 165ms/step - accuracy: 0.9616 - loss: 0.1152 - val_accuracy: 0.9760 - val_loss: 0.0749\n"
     ]
    },
    {
     "data": {
      "text/plain": [
       "<keras.src.callbacks.history.History at 0x20003468590>"
      ]
     },
     "execution_count": 18,
     "metadata": {},
     "output_type": "execute_result"
    }
   ],
   "source": [
    "model.fit(X,y, validation_data=(X_conect,y_conect),epochs = 50, batch_size = 128)"
   ]
  },
  {
   "cell_type": "code",
   "execution_count": 19,
   "id": "22cebadb-1dfb-4344-b8d2-5dfcdb273759",
   "metadata": {},
   "outputs": [],
   "source": [
    "import pickle "
   ]
  },
  {
   "cell_type": "code",
   "execution_count": 20,
   "id": "6f56072a-cd1a-4a7b-8b89-cfb54d53ae91",
   "metadata": {},
   "outputs": [],
   "source": [
    "with open('model.pkl', 'wb') as file:\n",
    "    pickle.dump(model,file)"
   ]
  },
  {
   "cell_type": "code",
   "execution_count": 21,
   "id": "afda1730",
   "metadata": {},
   "outputs": [
    {
     "data": {
      "text/plain": [
       "array(['angry', 'disgusted', 'fearful', 'happy', 'neutral', 'sad',\n",
       "       'surprised'], dtype='<U9')"
      ]
     },
     "execution_count": 21,
     "metadata": {},
     "output_type": "execute_result"
    }
   ],
   "source": [
    "label.classes_"
   ]
  },
  {
   "cell_type": "code",
   "execution_count": null,
   "id": "556f70e0-cae8-499c-9612-6d8cca1b95e7",
   "metadata": {},
   "outputs": [],
   "source": []
  },
  {
   "cell_type": "code",
   "execution_count": null,
   "id": "c855465a-f6ed-4e23-9bca-8da9ab0d9e60",
   "metadata": {},
   "outputs": [],
   "source": []
  },
  {
   "cell_type": "code",
   "execution_count": null,
   "id": "0a59a1a1-516f-4c14-868b-b17ec0f6d644",
   "metadata": {},
   "outputs": [],
   "source": []
  },
  {
   "cell_type": "code",
   "execution_count": null,
   "id": "403d9368-b8ed-49fb-92f9-e3845c28bb2c",
   "metadata": {},
   "outputs": [],
   "source": []
  }
 ],
 "metadata": {
  "kernelspec": {
   "display_name": "Python 3 (ipykernel)",
   "language": "python",
   "name": "python3"
  },
  "language_info": {
   "codemirror_mode": {
    "name": "ipython",
    "version": 3
   },
   "file_extension": ".py",
   "mimetype": "text/x-python",
   "name": "python",
   "nbconvert_exporter": "python",
   "pygments_lexer": "ipython3",
   "version": "3.13.7"
  }
 },
 "nbformat": 4,
 "nbformat_minor": 5
}
